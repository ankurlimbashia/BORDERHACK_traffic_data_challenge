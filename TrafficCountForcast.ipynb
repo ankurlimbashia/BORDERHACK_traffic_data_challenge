{
  "nbformat": 4,
  "nbformat_minor": 0,
  "metadata": {
    "colab": {
      "name": "TrafficCountForcast.ipynb",
      "provenance": [],
      "collapsed_sections": []
    },
    "kernelspec": {
      "name": "python3",
      "display_name": "Python 3"
    },
    "language_info": {
      "name": "python"
    }
  },
  "cells": [
    {
      "cell_type": "markdown",
      "metadata": {
        "id": "Mx75T_aJiHBK"
      },
      "source": [
        "### Importing required packages\n"
      ]
    },
    {
      "cell_type": "code",
      "metadata": {
        "id": "D8U7A3FmlSG1"
      },
      "source": [
        "import pandas as pd\n",
        "import warnings\n",
        "warnings.filterwarnings('ignore')\n",
        "import requests as re\n",
        "import json\n",
        "from tqdm import tqdm\n",
        "from datetime import date,timedelta\n",
        "from xgboost import XGBRegressor\n",
        "from sklearn.ensemble import RandomForestRegressor\n",
        "from sklearn.metrics import r2_score\n",
        "from sklearn.model_selection import RandomizedSearchCV,GridSearchCV\n",
        "import numpy as np\n",
        "import pickle\n",
        "import matplotlib.pyplot as plt"
      ],
      "execution_count": 1,
      "outputs": []
    },
    {
      "cell_type": "markdown",
      "metadata": {
        "id": "b-SLPgCLiaDM"
      },
      "source": [
        "### Data extraction and data exploration"
      ]
    },
    {
      "cell_type": "code",
      "metadata": {
        "id": "Yei3Xb1hmtu9"
      },
      "source": [
        "# start and end data of data extraction\n",
        "start = date(2020,8,1) # start date \n",
        "end = date(2021,9,24) # end date"
      ],
      "execution_count": 2,
      "outputs": []
    },
    {
      "cell_type": "code",
      "metadata": {
        "colab": {
          "base_uri": "https://localhost:8080/"
        },
        "id": "88HB16VSlUbM",
        "outputId": "6e102ada-94e0-4b22-ca6a-2c8679f1eb3a"
      },
      "source": [
        "mob_data = pd.DataFrame()\n",
        "# going through all the data\n",
        "for i in tqdm(range((end - start).days+1),desc = 'DataLoading'):\n",
        "    date = start + timedelta(i)\n",
        "    # going through all the intersection\n",
        "    for j in range(1,4):\n",
        "        params = {\n",
        "        \"date\": date,\n",
        "        \"intersectionid\": j\n",
        "            }\n",
        "        # sending requests\n",
        "        res = re.get('https://opendata.citywindsor.ca/api/traffic',params = params,verify=False)\n",
        "        # converting the json data to dataframe\n",
        "        df = pd.json_normalize(res.json(),record_path=['traffic'],meta=['intersectionDescription'])\n",
        "        frames = [mob_data,df]\n",
        "        mob_data = pd.concat(frames)     "
      ],
      "execution_count": 3,
      "outputs": [
        {
          "output_type": "stream",
          "name": "stderr",
          "text": [
            "DataLoading: 100%|██████████| 420/420 [49:14<00:00,  7.04s/it]\n"
          ]
        }
      ]
    },
    {
      "cell_type": "code",
      "metadata": {
        "id": "vZZeEqkapITo"
      },
      "source": [
        "# extracting date and time from timestamp\n",
        "mob_data['day'] = pd.to_datetime(mob_data.timeStamp).dt.day\n",
        "mob_data['month'] = pd.to_datetime(mob_data.timeStamp).dt.month\n",
        "mob_data['year'] = pd.to_datetime(mob_data.timeStamp).dt.year\n",
        "mob_data['hour'] = pd.to_datetime(mob_data.timeStamp).dt.hour\n",
        "mob_data['day of the week'] = pd.to_datetime(mob_data.timeStamp).dt.dayofweek\n",
        "\n",
        "# Selecting only required columns\n",
        "mob_data = mob_data[['intersectionDescription','year','month','day','hour','day of the week','qty']]"
      ],
      "execution_count": 5,
      "outputs": []
    },
    {
      "cell_type": "code",
      "metadata": {
        "id": "r53J_A5Ei8fj"
      },
      "source": [
        "mod_data.to_csv('mob_data.csv',index = False)"
      ],
      "execution_count": null,
      "outputs": []
    },
    {
      "cell_type": "code",
      "metadata": {
        "colab": {
          "base_uri": "https://localhost:8080/",
          "height": 204
        },
        "id": "u9kOP5yDoO4_",
        "outputId": "34d3a901-cbdc-49d3-f6d2-177670bef1a4"
      },
      "source": [
        "mob_data.head()"
      ],
      "execution_count": 6,
      "outputs": [
        {
          "output_type": "execute_result",
          "data": {
            "text/html": [
              "<div>\n",
              "<style scoped>\n",
              "    .dataframe tbody tr th:only-of-type {\n",
              "        vertical-align: middle;\n",
              "    }\n",
              "\n",
              "    .dataframe tbody tr th {\n",
              "        vertical-align: top;\n",
              "    }\n",
              "\n",
              "    .dataframe thead th {\n",
              "        text-align: right;\n",
              "    }\n",
              "</style>\n",
              "<table border=\"1\" class=\"dataframe\">\n",
              "  <thead>\n",
              "    <tr style=\"text-align: right;\">\n",
              "      <th></th>\n",
              "      <th>intersectionDescription</th>\n",
              "      <th>year</th>\n",
              "      <th>month</th>\n",
              "      <th>day</th>\n",
              "      <th>hour</th>\n",
              "      <th>day of the week</th>\n",
              "      <th>qty</th>\n",
              "    </tr>\n",
              "  </thead>\n",
              "  <tbody>\n",
              "    <tr>\n",
              "      <th>0</th>\n",
              "      <td>Dorchester Road and Huron Church Road</td>\n",
              "      <td>2020</td>\n",
              "      <td>8</td>\n",
              "      <td>1</td>\n",
              "      <td>0</td>\n",
              "      <td>5</td>\n",
              "      <td>2.0</td>\n",
              "    </tr>\n",
              "    <tr>\n",
              "      <th>1</th>\n",
              "      <td>Dorchester Road and Huron Church Road</td>\n",
              "      <td>2020</td>\n",
              "      <td>8</td>\n",
              "      <td>1</td>\n",
              "      <td>0</td>\n",
              "      <td>5</td>\n",
              "      <td>2.0</td>\n",
              "    </tr>\n",
              "    <tr>\n",
              "      <th>2</th>\n",
              "      <td>Dorchester Road and Huron Church Road</td>\n",
              "      <td>2020</td>\n",
              "      <td>8</td>\n",
              "      <td>1</td>\n",
              "      <td>0</td>\n",
              "      <td>5</td>\n",
              "      <td>4.0</td>\n",
              "    </tr>\n",
              "    <tr>\n",
              "      <th>3</th>\n",
              "      <td>Dorchester Road and Huron Church Road</td>\n",
              "      <td>2020</td>\n",
              "      <td>8</td>\n",
              "      <td>1</td>\n",
              "      <td>0</td>\n",
              "      <td>5</td>\n",
              "      <td>2.0</td>\n",
              "    </tr>\n",
              "    <tr>\n",
              "      <th>4</th>\n",
              "      <td>Dorchester Road and Huron Church Road</td>\n",
              "      <td>2020</td>\n",
              "      <td>8</td>\n",
              "      <td>1</td>\n",
              "      <td>0</td>\n",
              "      <td>5</td>\n",
              "      <td>3.0</td>\n",
              "    </tr>\n",
              "  </tbody>\n",
              "</table>\n",
              "</div>"
            ],
            "text/plain": [
              "                 intersectionDescription  year  ...  day of the week  qty\n",
              "0  Dorchester Road and Huron Church Road  2020  ...                5  2.0\n",
              "1  Dorchester Road and Huron Church Road  2020  ...                5  2.0\n",
              "2  Dorchester Road and Huron Church Road  2020  ...                5  4.0\n",
              "3  Dorchester Road and Huron Church Road  2020  ...                5  2.0\n",
              "4  Dorchester Road and Huron Church Road  2020  ...                5  3.0\n",
              "\n",
              "[5 rows x 7 columns]"
            ]
          },
          "metadata": {},
          "execution_count": 6
        }
      ]
    },
    {
      "cell_type": "code",
      "metadata": {
        "id": "uUlsGP3yxAAp"
      },
      "source": [
        "# making different dataframes for all three intersections\n",
        "totten_street = mob_data[mob_data['intersectionDescription'] == 'Totten Street and Huron Church Road']\n",
        "dorchester_road = mob_data[mob_data['intersectionDescription'] == 'Dorchester Road and Huron Church Road']\n",
        "malden_road = mob_data[mob_data['intersectionDescription'] == 'Malden Road and Huron Church Road']"
      ],
      "execution_count": 8,
      "outputs": []
    },
    {
      "cell_type": "code",
      "metadata": {
        "id": "Kwi12JDEz1Q_"
      },
      "source": [
        "# making the required changes in the data\n",
        "totten_street_new = totten_street.groupby(['year','month','day of the week','day','hour'],as_index = False)['qty'].sum()\n",
        "dorchester_road_new = dorchester_road.groupby(['year','month','day of the week','day','hour'],as_index = False)['qty'].sum()\n",
        "malden_road_new = malden_road.groupby(['year','month','day of the week','day','hour'],as_index = False)['qty'].sum()"
      ],
      "execution_count": 9,
      "outputs": []
    },
    {
      "cell_type": "code",
      "metadata": {
        "id": "5KrAJzJWGWYr"
      },
      "source": [
        "totten_street_new.to_csv('totten.csv',index = False)\n",
        "dorchester_road_new.to_csv('dorchester.csv',index = False)\n",
        "malden_road_new.to_csv('malden.csv',index = False)"
      ],
      "execution_count": 10,
      "outputs": []
    },
    {
      "cell_type": "code",
      "metadata": {
        "id": "2YbdDzSO0H06"
      },
      "source": [
        "# extracting the train and test data for all the three given intersection\n",
        "# we have used the september 2021 for testing data for all three intersection\n",
        "\n",
        "X_test_totten = totten_street_new[(totten_street_new['month'] == 9) & (totten_street_new['year'] == 2021)].drop('qty',axis = 1)\n",
        "y_test_totten = totten_street_new[(totten_street_new['month'] == 9) & (totten_street_new['year'] == 2021)]['qty']\n",
        "\n",
        "X_train_totten = totten_street_new[(totten_street_new['month'] < 9) | (totten_street_new['year'] == 2020) ].drop('qty',axis = 1)\n",
        "y_train_totten = totten_street_new[(totten_street_new['month'] < 9) | (totten_street_new['year'] == 2020)]['qty']\n",
        "\n",
        "\n",
        "X_test_dorchester = dorchester_road_new[(dorchester_road_new['month'] == 9) & (dorchester_road_new['year'] == 2021)].drop('qty',axis = 1)\n",
        "y_test_dorchester = dorchester_road_new[(dorchester_road_new['month'] == 9) & (dorchester_road_new['year'] == 2021)]['qty']\n",
        "\n",
        "X_train_dorchester = dorchester_road_new[(dorchester_road_new['month'] < 9) | (dorchester_road_new['year'] == 2020) ].drop('qty',axis = 1)\n",
        "y_train_dorchester = dorchester_road_new[(dorchester_road_new['month'] < 9) | (dorchester_road_new['year'] == 2020)]['qty']\n",
        "\n",
        "\n",
        "X_test_malden = malden_road_new[(malden_road_new['month'] == 9) & (malden_road_new['year'] == 2021)].drop('qty',axis = 1)\n",
        "y_test_malden = malden_road_new[(malden_road_new['month'] == 9) & (malden_road_new['year'] == 2021)]['qty']\n",
        "\n",
        "X_train_malden = malden_road_new[(malden_road_new['month'] < 9) | (malden_road_new['year'] == 2020) ].drop('qty',axis = 1)\n",
        "y_train_malden = malden_road_new[(malden_road_new['month'] < 9) | (malden_road_new['year'] == 2020)]['qty']"
      ],
      "execution_count": 12,
      "outputs": []
    },
    {
      "cell_type": "markdown",
      "metadata": {
        "id": "m2EJblQUFGCb"
      },
      "source": [
        "### XGBoost Regressor"
      ]
    },
    {
      "cell_type": "code",
      "metadata": {
        "colab": {
          "base_uri": "https://localhost:8080/"
        },
        "id": "3ApjHFuu7dTR",
        "outputId": "f78be68d-2b62-4fa0-92b7-edf5965b66a6"
      },
      "source": [
        "# selecting parameters to tune the xgboost regressor\n",
        "xgb_params = {\n",
        "    'reg':'squarederror',\n",
        "    'max_depth': [int(i) for i in np.linspace(2,10,5)],\n",
        "    'min_child_weight':[int(i) for i in np.linspace(2,10,5)],\n",
        "    'gamma' : [i for i in np.linspace(0.0,0.5,6)],\n",
        "    'subsample' : [ i for i in np.linspace(0.6,1.0,9)],\n",
        "    'colsample_bytree' : [i for i in np.linspace(0.6,1.0,9)],\n",
        "    'reg_lambda' : [0.01,0.1,1.0,10,20],\n",
        "    'learning_rate' : [0.05,0.1,0.15,0.2,0.25,0.3]\n",
        "}\n",
        "xgb_params"
      ],
      "execution_count": 14,
      "outputs": [
        {
          "output_type": "execute_result",
          "data": {
            "text/plain": [
              "{'colsample_bytree': [0.6, 0.65, 0.7, 0.75, 0.8, 0.85, 0.9, 0.95, 1.0],\n",
              " 'gamma': [0.0, 0.1, 0.2, 0.30000000000000004, 0.4, 0.5],\n",
              " 'learning_rate': [0.05, 0.1, 0.15, 0.2, 0.25, 0.3],\n",
              " 'max_depth': [2, 4, 6, 8, 10],\n",
              " 'min_child_weight': [2, 4, 6, 8, 10],\n",
              " 'reg': 'squarederror',\n",
              " 'reg_lambda': [0.01, 0.1, 1.0, 10, 20],\n",
              " 'subsample': [0.6, 0.65, 0.7, 0.75, 0.8, 0.85, 0.9, 0.95, 1.0]}"
            ]
          },
          "metadata": {},
          "execution_count": 14
        }
      ]
    },
    {
      "cell_type": "code",
      "metadata": {
        "id": "Nd_WEHL5zrx_"
      },
      "source": [
        "lst = ['totten','dorchester','malden'] # list of intersection "
      ],
      "execution_count": 15,
      "outputs": []
    },
    {
      "cell_type": "code",
      "metadata": {
        "colab": {
          "base_uri": "https://localhost:8080/"
        },
        "id": "3ZXzPDTk7g7I",
        "outputId": "dd43ae02-1c10-4a6b-d534-486c2d891cc1"
      },
      "source": [
        "# creating and saving the models for all the three intersection\n",
        "for i in lst:\n",
        "  xgb = XGBRegressor()\n",
        "  print(f'For {i} intersection')\n",
        "  print('')\n",
        "  xgb_hptune = RandomizedSearchCV(xgb,xgb_params,cv=5,random_state = 0,n_iter = 10,n_jobs = -1,verbose = 2)\n",
        "  X_train = locals()['X_train_' + i]\n",
        "  y_train = locals()['y_train_' + i]\n",
        "  xgb_hptune.fit(X_train,y_train)\n",
        "  pickle.dump(xgb_hptune.best_estimator_,open(i+'_1.pkl','wb'))\n",
        "  print('')"
      ],
      "execution_count": 16,
      "outputs": [
        {
          "output_type": "stream",
          "name": "stdout",
          "text": [
            "For totten intersection\n",
            "\n",
            "Fitting 5 folds for each of 10 candidates, totalling 50 fits\n"
          ]
        },
        {
          "output_type": "stream",
          "name": "stderr",
          "text": [
            "[Parallel(n_jobs=-1)]: Using backend LokyBackend with 2 concurrent workers.\n",
            "[Parallel(n_jobs=-1)]: Done  37 tasks      | elapsed:   16.5s\n",
            "[Parallel(n_jobs=-1)]: Done  50 out of  50 | elapsed:   21.3s finished\n"
          ]
        },
        {
          "output_type": "stream",
          "name": "stdout",
          "text": [
            "[14:00:11] WARNING: /workspace/src/objective/regression_obj.cu:152: reg:linear is now deprecated in favor of reg:squarederror.\n",
            "\n",
            "For dorchester intersection\n",
            "\n",
            "Fitting 5 folds for each of 10 candidates, totalling 50 fits\n"
          ]
        },
        {
          "output_type": "stream",
          "name": "stderr",
          "text": [
            "[Parallel(n_jobs=-1)]: Using backend LokyBackend with 2 concurrent workers.\n",
            "[Parallel(n_jobs=-1)]: Done  37 tasks      | elapsed:   14.6s\n",
            "[Parallel(n_jobs=-1)]: Done  50 out of  50 | elapsed:   19.5s finished\n"
          ]
        },
        {
          "output_type": "stream",
          "name": "stdout",
          "text": [
            "[14:00:31] WARNING: /workspace/src/objective/regression_obj.cu:152: reg:linear is now deprecated in favor of reg:squarederror.\n",
            "\n",
            "For malden intersection\n",
            "\n",
            "Fitting 5 folds for each of 10 candidates, totalling 50 fits\n"
          ]
        },
        {
          "output_type": "stream",
          "name": "stderr",
          "text": [
            "[Parallel(n_jobs=-1)]: Using backend LokyBackend with 2 concurrent workers.\n",
            "[Parallel(n_jobs=-1)]: Done  37 tasks      | elapsed:   14.9s\n",
            "[Parallel(n_jobs=-1)]: Done  50 out of  50 | elapsed:   19.8s finished\n"
          ]
        },
        {
          "output_type": "stream",
          "name": "stdout",
          "text": [
            "[14:00:51] WARNING: /workspace/src/objective/regression_obj.cu:152: reg:linear is now deprecated in favor of reg:squarederror.\n",
            "\n"
          ]
        }
      ]
    },
    {
      "cell_type": "markdown",
      "metadata": {
        "id": "9Y8x5FhyFMAi"
      },
      "source": [
        "### RandomForest Regressor"
      ]
    },
    {
      "cell_type": "code",
      "metadata": {
        "colab": {
          "base_uri": "https://localhost:8080/"
        },
        "id": "PZwZPV_PknZH",
        "outputId": "e848dabf-0d58-4fd4-c05a-17eed3fae11e"
      },
      "source": [
        "for i in lst:\n",
        "\n",
        "  X_train = locals()['X_train_' + i]\n",
        "  y_train = locals()['y_train_' + i]\n",
        "\n",
        "  # Number of trees in random forest\n",
        "  n_estimators = [int(x) for x in np.linspace(start = 50, stop = 250, num = 5)]\n",
        "  # Number of features to consider at every split\n",
        "  max_features = ['auto', 'sqrt','log2']\n",
        "  # Maximum number of levels in tree\n",
        "  max_depth = [int(x) for x in np.linspace(2, 10, num = 5)]\n",
        "  max_depth.append(None)\n",
        "  # Minimum number of samples required to split a node\n",
        "  min_samples_split = [int(x) for x in np.linspace(2,20,5)]\n",
        "  # Minimum number of samples required at each leaf node\n",
        "  min_samples_leaf = [int(x) for x in np.linspace(2,10,5)]\n",
        "  # Method of selecting samples for training each tree\n",
        "  bootstrap = [True]\n",
        "\n",
        "  # Create the random grid\n",
        "  random_grid = {'n_estimators': n_estimators,\n",
        "                'max_features': max_features,\n",
        "                'max_depth': max_depth,\n",
        "                'min_samples_split': min_samples_split,\n",
        "                'min_samples_leaf': min_samples_leaf,\n",
        "                'bootstrap': bootstrap}\n",
        "\n",
        "  print(f'For {i} initersection')\n",
        "  print('')\n",
        "\n",
        "  rf = RandomForestRegressor()\n",
        "  rf_random_search = RandomizedSearchCV(estimator = rf, param_distributions = random_grid, n_iter = 10, cv = 5, verbose=2, random_state=9, n_jobs = -1)\n",
        "  rf_random_search.fit(X_train,y_train)\n",
        "\n",
        "\n",
        "  # for fine tuning I have used GridsearchCV after RandomizedSearchCV\n",
        "  grid = {\n",
        "      'n_estimators' : [rf_random_search.best_params_['n_estimators'],rf_random_search.best_params_['n_estimators']+50,rf_random_search.best_params_['n_estimators']+100],\n",
        "      'min_samples_split' : [rf_random_search.best_params_['min_samples_split'],rf_random_search.best_params_['min_samples_split']-1,rf_random_search.best_params_['min_samples_split']+1],\n",
        "      'min_samples_leaf' : [rf_random_search.best_params_['min_samples_leaf'],rf_random_search.best_params_['min_samples_leaf']-1,rf_random_search.best_params_['min_samples_leaf']+1],\n",
        "      'max_depth' : [rf_random_search.best_params_['max_depth'],None],\n",
        "      'max_features' : [rf_random_search.best_params_['max_features']],\n",
        "      'bootstrap' : [rf_random_search.best_params_['bootstrap']]\n",
        "  }\n",
        "  rf_clf = RandomForestRegressor()\n",
        "  rf_grid_search = GridSearchCV(rf_clf,grid,n_jobs = -1,cv=5,verbose = 2)\n",
        "  rf_grid_search.fit(X_train,y_train)\n",
        "\n",
        "  pickle.dump(rf_grid_search.best_estimator_,open(i+'_2.pkl','wb'))\n",
        "  print('')\n"
      ],
      "execution_count": 23,
      "outputs": [
        {
          "output_type": "stream",
          "name": "stdout",
          "text": [
            "For totten initersection\n",
            "\n",
            "Fitting 5 folds for each of 10 candidates, totalling 50 fits\n"
          ]
        },
        {
          "output_type": "stream",
          "name": "stderr",
          "text": [
            "[Parallel(n_jobs=-1)]: Using backend LokyBackend with 2 concurrent workers.\n",
            "[Parallel(n_jobs=-1)]: Done  37 tasks      | elapsed:   22.2s\n",
            "[Parallel(n_jobs=-1)]: Done  50 out of  50 | elapsed:   30.8s finished\n"
          ]
        },
        {
          "output_type": "stream",
          "name": "stdout",
          "text": [
            "Fitting 5 folds for each of 54 candidates, totalling 270 fits\n"
          ]
        },
        {
          "output_type": "stream",
          "name": "stderr",
          "text": [
            "[Parallel(n_jobs=-1)]: Using backend LokyBackend with 2 concurrent workers.\n",
            "[Parallel(n_jobs=-1)]: Done  37 tasks      | elapsed:   57.1s\n",
            "[Parallel(n_jobs=-1)]: Done 158 tasks      | elapsed:  4.3min\n",
            "[Parallel(n_jobs=-1)]: Done 270 out of 270 | elapsed:  8.1min finished\n"
          ]
        },
        {
          "output_type": "stream",
          "name": "stdout",
          "text": [
            "\n",
            "For dorchester initersection\n",
            "\n",
            "Fitting 5 folds for each of 10 candidates, totalling 50 fits\n"
          ]
        },
        {
          "output_type": "stream",
          "name": "stderr",
          "text": [
            "[Parallel(n_jobs=-1)]: Using backend LokyBackend with 2 concurrent workers.\n",
            "[Parallel(n_jobs=-1)]: Done  37 tasks      | elapsed:   22.2s\n",
            "[Parallel(n_jobs=-1)]: Done  50 out of  50 | elapsed:   30.8s finished\n"
          ]
        },
        {
          "output_type": "stream",
          "name": "stdout",
          "text": [
            "Fitting 5 folds for each of 54 candidates, totalling 270 fits\n"
          ]
        },
        {
          "output_type": "stream",
          "name": "stderr",
          "text": [
            "[Parallel(n_jobs=-1)]: Using backend LokyBackend with 2 concurrent workers.\n",
            "[Parallel(n_jobs=-1)]: Done  37 tasks      | elapsed:   55.7s\n",
            "[Parallel(n_jobs=-1)]: Done 158 tasks      | elapsed:  4.1min\n",
            "[Parallel(n_jobs=-1)]: Done 270 out of 270 | elapsed:  7.4min finished\n"
          ]
        },
        {
          "output_type": "stream",
          "name": "stdout",
          "text": [
            "\n",
            "For malden initersection\n",
            "\n",
            "Fitting 5 folds for each of 10 candidates, totalling 50 fits\n"
          ]
        },
        {
          "output_type": "stream",
          "name": "stderr",
          "text": [
            "[Parallel(n_jobs=-1)]: Using backend LokyBackend with 2 concurrent workers.\n",
            "[Parallel(n_jobs=-1)]: Done  37 tasks      | elapsed:   22.7s\n",
            "[Parallel(n_jobs=-1)]: Done  50 out of  50 | elapsed:   31.4s finished\n"
          ]
        },
        {
          "output_type": "stream",
          "name": "stdout",
          "text": [
            "Fitting 5 folds for each of 54 candidates, totalling 270 fits\n"
          ]
        },
        {
          "output_type": "stream",
          "name": "stderr",
          "text": [
            "[Parallel(n_jobs=-1)]: Using backend LokyBackend with 2 concurrent workers.\n",
            "[Parallel(n_jobs=-1)]: Done  37 tasks      | elapsed:   58.6s\n",
            "[Parallel(n_jobs=-1)]: Done 158 tasks      | elapsed:  4.4min\n",
            "[Parallel(n_jobs=-1)]: Done 270 out of 270 | elapsed:  8.3min finished\n"
          ]
        },
        {
          "output_type": "stream",
          "name": "stdout",
          "text": [
            "\n"
          ]
        }
      ]
    },
    {
      "cell_type": "markdown",
      "metadata": {
        "id": "782hzfvXkBAD"
      },
      "source": [
        "### Checking the R2 score after averaging the prediction of both the models"
      ]
    },
    {
      "cell_type": "markdown",
      "metadata": {
        "id": "itH6as87kMns"
      },
      "source": [
        "##### Dorchester Road and Huron Church Road"
      ]
    },
    {
      "cell_type": "code",
      "metadata": {
        "colab": {
          "base_uri": "https://localhost:8080/"
        },
        "id": "f9k67FVmkXgg",
        "outputId": "a620e644-8237-4c85-ac59-779d1b22f8b6"
      },
      "source": [
        "model_1 = pickle.load(open('dorchester_1.pkl','rb'))\n",
        "model_2 = pickle.load(open('dorchester_2.pkl','rb'))"
      ],
      "execution_count": 40,
      "outputs": [
        {
          "output_type": "stream",
          "name": "stdout",
          "text": [
            "[14:48:42] WARNING: /workspace/src/objective/regression_obj.cu:152: reg:linear is now deprecated in favor of reg:squarederror.\n"
          ]
        }
      ]
    },
    {
      "cell_type": "code",
      "metadata": {
        "colab": {
          "base_uri": "https://localhost:8080/"
        },
        "id": "5sGu8ndRjwCq",
        "outputId": "6838ec66-293c-4a52-c59c-1bd0bfeee22b"
      },
      "source": [
        "y_pred_train = (model_1.predict(X_train_dorchester) + model_2.predict(X_train_dorchester))/2\n",
        "r2_score(y_train_dorchester,y_pred_train)"
      ],
      "execution_count": 42,
      "outputs": [
        {
          "output_type": "execute_result",
          "data": {
            "text/plain": [
              "0.9662424530840088"
            ]
          },
          "metadata": {},
          "execution_count": 42
        }
      ]
    },
    {
      "cell_type": "code",
      "metadata": {
        "colab": {
          "base_uri": "https://localhost:8080/"
        },
        "id": "XPQJ7kphhtvN",
        "outputId": "1d637947-0217-48d9-e014-4c935bcc7861"
      },
      "source": [
        "y_pred_test = (model_1.predict(X_test_dorchester) + model_2.predict(X_test_dorchester))/2\n",
        "r2_score(y_test_dorchester,y_pred_test)"
      ],
      "execution_count": 43,
      "outputs": [
        {
          "output_type": "execute_result",
          "data": {
            "text/plain": [
              "0.866805792905263"
            ]
          },
          "metadata": {},
          "execution_count": 43
        }
      ]
    },
    {
      "cell_type": "markdown",
      "metadata": {
        "id": "OqcqahMPltH4"
      },
      "source": [
        "#### Totten Street and Huron Church Road"
      ]
    },
    {
      "cell_type": "code",
      "metadata": {
        "colab": {
          "base_uri": "https://localhost:8080/"
        },
        "id": "_4d582k1lwbh",
        "outputId": "3ad4b37d-98e4-4bfb-f61f-8cd34d90e4e1"
      },
      "source": [
        "model_1 = pickle.load(open('totten_1.pkl','rb'))\n",
        "model_2 = pickle.load(open('totten_2.pkl','rb'))"
      ],
      "execution_count": 44,
      "outputs": [
        {
          "output_type": "stream",
          "name": "stdout",
          "text": [
            "[14:53:47] WARNING: /workspace/src/objective/regression_obj.cu:152: reg:linear is now deprecated in favor of reg:squarederror.\n"
          ]
        }
      ]
    },
    {
      "cell_type": "code",
      "metadata": {
        "colab": {
          "base_uri": "https://localhost:8080/"
        },
        "id": "K33RQBtml13A",
        "outputId": "86e33ea9-680f-47ef-b67c-8d762e03c1e2"
      },
      "source": [
        "y_pred_train = (model_1.predict(X_train_totten) + model_2.predict(X_train_totten))/2\n",
        "r2_score(y_train_totten,y_pred_train)"
      ],
      "execution_count": 45,
      "outputs": [
        {
          "output_type": "execute_result",
          "data": {
            "text/plain": [
              "0.9586991370177642"
            ]
          },
          "metadata": {},
          "execution_count": 45
        }
      ]
    },
    {
      "cell_type": "code",
      "metadata": {
        "colab": {
          "base_uri": "https://localhost:8080/"
        },
        "id": "MY9o0zp1l2UB",
        "outputId": "232fa661-f44a-4ac1-d703-30e2fbfc0b16"
      },
      "source": [
        "y_pred_test = (model_1.predict(X_test_totten) + model_2.predict(X_test_totten))/2\n",
        "r2_score(y_test_totten,y_pred_test)"
      ],
      "execution_count": 46,
      "outputs": [
        {
          "output_type": "execute_result",
          "data": {
            "text/plain": [
              "0.8795961004299547"
            ]
          },
          "metadata": {},
          "execution_count": 46
        }
      ]
    },
    {
      "cell_type": "markdown",
      "metadata": {
        "id": "V4irXD47lw7T"
      },
      "source": [
        "#### Malden Road and Huron Church Road"
      ]
    },
    {
      "cell_type": "code",
      "metadata": {
        "colab": {
          "base_uri": "https://localhost:8080/"
        },
        "id": "Wl95H4jAl0_J",
        "outputId": "2296b158-7d4c-4370-ce4c-54e24df4d8ea"
      },
      "source": [
        "model_1 = pickle.load(open('malden_1.pkl','rb'))\n",
        "model_2 = pickle.load(open('malden_2.pkl','rb'))"
      ],
      "execution_count": 47,
      "outputs": [
        {
          "output_type": "stream",
          "name": "stdout",
          "text": [
            "[14:54:07] WARNING: /workspace/src/objective/regression_obj.cu:152: reg:linear is now deprecated in favor of reg:squarederror.\n"
          ]
        }
      ]
    },
    {
      "cell_type": "code",
      "metadata": {
        "colab": {
          "base_uri": "https://localhost:8080/"
        },
        "id": "o3EYFPAUl23s",
        "outputId": "0b43da66-d808-4afd-ccd9-680939ec0962"
      },
      "source": [
        "y_pred_train = (model_1.predict(X_train_malden) + model_2.predict(X_train_malden))/2\n",
        "r2_score(y_train_malden,y_pred_train)"
      ],
      "execution_count": 48,
      "outputs": [
        {
          "output_type": "execute_result",
          "data": {
            "text/plain": [
              "0.956636978461213"
            ]
          },
          "metadata": {},
          "execution_count": 48
        }
      ]
    },
    {
      "cell_type": "code",
      "metadata": {
        "colab": {
          "base_uri": "https://localhost:8080/"
        },
        "id": "aBrt8rJTl3KU",
        "outputId": "9ed146fc-e754-4f45-f95d-5018ec207c71"
      },
      "source": [
        "y_pred_test = (model_1.predict(X_test_malden) + model_2.predict(X_test_malden))/2\n",
        "r2_score(y_test_dorchester,y_pred_test)"
      ],
      "execution_count": 49,
      "outputs": [
        {
          "output_type": "execute_result",
          "data": {
            "text/plain": [
              "0.8938129016885403"
            ]
          },
          "metadata": {},
          "execution_count": 49
        }
      ]
    }
  ]
}